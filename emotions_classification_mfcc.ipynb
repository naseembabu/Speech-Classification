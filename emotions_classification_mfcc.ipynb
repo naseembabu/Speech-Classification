{
  "nbformat": 4,
  "nbformat_minor": 0,
  "metadata": {
    "colab": {
      "name": "emotions classification_mfcc.ipynb",
      "provenance": [],
      "toc_visible": true,
      "mount_file_id": "15FE4sT82YIf1FwJdgcXDF_G6Uj8yyrhO",
      "authorship_tag": "ABX9TyNfuiemTuYm8hMv6v9SedUH",
      "include_colab_link": true
    },
    "kernelspec": {
      "name": "python3",
      "display_name": "Python 3"
    },
    "language_info": {
      "name": "python"
    }
  },
  "cells": [
    {
      "cell_type": "markdown",
      "metadata": {
        "id": "view-in-github",
        "colab_type": "text"
      },
      "source": [
        "<a href=\"https://colab.research.google.com/github/naseembabu/Speech-Classification/blob/main/emotions_classification_mfcc.ipynb\" target=\"_parent\"><img src=\"https://colab.research.google.com/assets/colab-badge.svg\" alt=\"Open In Colab\"/></a>"
      ]
    },
    {
      "cell_type": "code",
      "metadata": {
        "id": "MnLILn5nTiF4"
      },
      "source": [
        "import pandas as pd\n",
        "import numpy as np\n",
        "import matplotlib.pyplot as plt\n",
        "from sklearn.model_selection import cross_val_score"
      ],
      "execution_count": null,
      "outputs": []
    },
    {
      "cell_type": "code",
      "metadata": {
        "id": "gJXKvuEVT31n"
      },
      "source": [
        "from keras.preprocessing.text import Tokenizer, text_to_word_sequence\n",
        "from keras.preprocessing.sequence import pad_sequences\n",
        "from keras.utils.np_utils import to_categorical\n",
        "from keras.callbacks import ModelCheckpoint\n",
        "from keras.layers import Embedding\n",
        "from sklearn.model_selection import KFold\n",
        "from keras.layers import Dense, Input, Flatten\n",
        "from keras.layers import Conv1D, MaxPool1D, Embedding, Dropout, LSTM, GRU, Bidirectional, TimeDistributed, concatenate, add\n",
        "from sklearn.metrics import accuracy_score, f1_score, precision_score, recall_score, classification_report, confusion_matrix, precision_recall_fscore_support\n",
        "from keras.models import Model\n",
        "from keras import backend as K\n",
        "#from keras.engine.topology import Layer, InputSpec\n",
        "from tensorflow.keras.layers import Layer, InputSpec\n",
        "from keras import initializers"
      ],
      "execution_count": null,
      "outputs": []
    },
    {
      "cell_type": "code",
      "metadata": {
        "id": "we-XMgf5T4VT"
      },
      "source": [
        "df1 = pd.read_json(\"/content/drive/MyDrive/Training_data.json\")"
      ],
      "execution_count": null,
      "outputs": []
    },
    {
      "cell_type": "code",
      "metadata": {
        "id": "RaYXW9VrxIy0"
      },
      "source": [
        "df2 = pd.read_json(\"/content/drive/MyDrive/Evaluation_data.json\")"
      ],
      "execution_count": null,
      "outputs": []
    },
    {
      "cell_type": "code",
      "metadata": {
        "id": "KO-QucZEkpro"
      },
      "source": [
        "df3 = pd.read_json(\"/content/drive/MyDrive/Development_data.json\")"
      ],
      "execution_count": null,
      "outputs": []
    },
    {
      "cell_type": "code",
      "metadata": {
        "id": "lnr_zbxlUBY2"
      },
      "source": [
        "def plot_history(history):\n",
        "    \"\"\"Plots accuracy/loss for training/validation set as a function of the epochs\n",
        "        :param history: Training history of model\n",
        "        :return:\n",
        "    \"\"\"\n",
        "\n",
        "    fig, axs = plt.subplots(2)\n",
        "\n",
        "    # create accuracy sublpot\n",
        "    axs[0].plot(history.history[\"accuracy\"], label=\"train accuracy\")\n",
        "    axs[0].plot(history.history[\"val_accuracy\"], label=\"test accuracy\")\n",
        "    axs[0].set_ylabel(\"Accuracy\")\n",
        "    axs[0].legend(loc=\"lower right\")\n",
        "    axs[0].set_title(\"Accuracy eval\")\n",
        "    \n",
        "    # create error sublpot\n",
        "    axs[1].plot(history.history[\"loss\"], label=\"train error\")\n",
        "    axs[1].plot(history.history[\"val_loss\"], label=\"test error\")\n",
        "    axs[1].set_ylabel(\"Error\")\n",
        "    axs[1].set_xlabel(\"Epoch\")\n",
        "    axs[1].legend(loc=\"upper right\")\n",
        "    axs[1].set_title(\"Error eval\")\n",
        "\n",
        "    plt.show()"
      ],
      "execution_count": null,
      "outputs": []
    },
    {
      "cell_type": "code",
      "metadata": {
        "id": "qzzV2_5Cjx6Y"
      },
      "source": [
        "df1['class'] = df1['class'].astype(str) \n",
        "df1['class'] = df1['class'].replace(str(2),\"zero\")\n",
        "df1['class'] = df1['class'].replace(str(1),\"one\")\n",
        "### Split the dataset into independent and dependent dataset\n",
        "Y1 = df1['class']\n",
        "Y1 = np.array(df1['class'].tolist())\n",
        "X11 = np.array(df1['mfcc'].tolist())\n",
        "#X12 = np.array(df1['cqcc'].tolist())\n",
        "#X1 = np.concatenate((X11, X12), axis=1)\n",
        "X_train = np.expand_dims(X11, 1)\n",
        "### Label Encoding\n",
        "y_train=np.array(pd.get_dummies(Y1))"
      ],
      "execution_count": null,
      "outputs": []
    },
    {
      "cell_type": "code",
      "metadata": {
        "colab": {
          "base_uri": "https://localhost:8080/"
        },
        "id": "gu_UDnTqFz5K",
        "outputId": "47c9b679-f66f-4b9e-d3fe-5e4ac1e14feb"
      },
      "source": [
        "y_train.shape"
      ],
      "execution_count": null,
      "outputs": [
        {
          "output_type": "execute_result",
          "data": {
            "text/plain": [
              "(25380, 2)"
            ]
          },
          "metadata": {},
          "execution_count": 37
        }
      ]
    },
    {
      "cell_type": "code",
      "metadata": {
        "id": "Aq8hg7B-yQkx"
      },
      "source": [
        "Y = df2['class']\n",
        "df2['class'] = df2['class'].astype(str) \n",
        "df2['class'] = df2['class'].replace(str(2),\"zero\")\n",
        "df2['class'] = df2['class'].replace(str(1),\"one\")\n",
        "### Split the dataset into independent and dependent dataset\n",
        "Y2 = np.array(df2['class'].tolist())\n",
        "X21 = np.array(df2['mfcc'].tolist())\n",
        "#X22 = np.array(df2['cqcc'].tolist())\n",
        "#X2 = np.concatenate((X21, X22), axis=1)\n",
        "X_eval = np.expand_dims(X22, 1)\n",
        "### Label Encoding\n",
        "y_eval=np.array(pd.get_dummies(Y2))"
      ],
      "execution_count": null,
      "outputs": []
    },
    {
      "cell_type": "code",
      "metadata": {
        "colab": {
          "base_uri": "https://localhost:8080/"
        },
        "id": "hSMv6uu2a2Af",
        "outputId": "72c13d72-4a1e-4247-cdc5-7e3c5e3cca6f"
      },
      "source": [
        "Y"
      ],
      "execution_count": null,
      "outputs": [
        {
          "output_type": "execute_result",
          "data": {
            "text/plain": [
              "0        1\n",
              "1        1\n",
              "2        1\n",
              "3        1\n",
              "4        1\n",
              "        ..\n",
              "71232    0\n",
              "71233    1\n",
              "71234    1\n",
              "71235    0\n",
              "71236    1\n",
              "Name: class, Length: 71237, dtype: int64"
            ]
          },
          "metadata": {},
          "execution_count": 191
        }
      ]
    },
    {
      "cell_type": "code",
      "metadata": {
        "id": "siQC_eoCkl6F"
      },
      "source": [
        "Y3 = df3['class']\n",
        "df3['class'] = df3['class'].astype(str) \n",
        "df3['class'] = df3['class'].replace(str(2),\"zero\")\n",
        "df3['class'] = df3['class'].replace(str(1),\"one\")\n",
        "\n",
        "### Split the dataset into independent and dependent dataset\n",
        "Y3 = np.array(df3['class'].tolist())\n",
        "X31 = np.array(df3['mfcc'].tolist())\n",
        "#X32 = np.array(df3['cqcc'].tolist())\n",
        "#X3 = np.concatenate((X31, X32), axis=1)\n",
        "X_dev = np.expand_dims(X31, 1)\n",
        "### Label Encoding\n",
        "y_dev=np.array(pd.get_dummies(Y3))"
      ],
      "execution_count": null,
      "outputs": []
    },
    {
      "cell_type": "code",
      "metadata": {
        "colab": {
          "base_uri": "https://localhost:8080/"
        },
        "id": "uayngoyTdUFQ",
        "outputId": "a8b12b17-5a6c-446d-eca9-3e8ed39a55f7"
      },
      "source": [
        "y_dev"
      ],
      "execution_count": null,
      "outputs": [
        {
          "output_type": "execute_result",
          "data": {
            "text/plain": [
              "array([[1, 0],\n",
              "       [1, 0],\n",
              "       [1, 0],\n",
              "       ...,\n",
              "       [0, 1],\n",
              "       [0, 1],\n",
              "       [0, 1]], dtype=uint8)"
            ]
          },
          "metadata": {},
          "execution_count": 210
        }
      ]
    },
    {
      "cell_type": "code",
      "metadata": {
        "id": "_CNdD-v0X8eE",
        "colab": {
          "base_uri": "https://localhost:8080/",
          "height": 197
        },
        "outputId": "6ef5b152-d0c0-4398-cad5-a3958b48e474"
      },
      "source": [
        "### Train Test Split\n",
        "from tensorflow.keras.models import Sequential\n",
        "from sklearn.model_selection import train_test_split\n",
        "input_train, input_test, target_train, target_test = train_test_split(X,y,test_size=0.3,random_state=0)"
      ],
      "execution_count": null,
      "outputs": [
        {
          "output_type": "error",
          "ename": "NameError",
          "evalue": "ignored",
          "traceback": [
            "\u001b[0;31m---------------------------------------------------------------------------\u001b[0m",
            "\u001b[0;31mNameError\u001b[0m                                 Traceback (most recent call last)",
            "\u001b[0;32m<ipython-input-81-5348df1385a4>\u001b[0m in \u001b[0;36m<module>\u001b[0;34m()\u001b[0m\n\u001b[1;32m      2\u001b[0m \u001b[0;32mfrom\u001b[0m \u001b[0mtensorflow\u001b[0m\u001b[0;34m.\u001b[0m\u001b[0mkeras\u001b[0m\u001b[0;34m.\u001b[0m\u001b[0mmodels\u001b[0m \u001b[0;32mimport\u001b[0m \u001b[0mSequential\u001b[0m\u001b[0;34m\u001b[0m\u001b[0;34m\u001b[0m\u001b[0m\n\u001b[1;32m      3\u001b[0m \u001b[0;32mfrom\u001b[0m \u001b[0msklearn\u001b[0m\u001b[0;34m.\u001b[0m\u001b[0mmodel_selection\u001b[0m \u001b[0;32mimport\u001b[0m \u001b[0mtrain_test_split\u001b[0m\u001b[0;34m\u001b[0m\u001b[0;34m\u001b[0m\u001b[0m\n\u001b[0;32m----> 4\u001b[0;31m \u001b[0minput_train\u001b[0m\u001b[0;34m,\u001b[0m \u001b[0minput_test\u001b[0m\u001b[0;34m,\u001b[0m \u001b[0mtarget_train\u001b[0m\u001b[0;34m,\u001b[0m \u001b[0mtarget_test\u001b[0m \u001b[0;34m=\u001b[0m \u001b[0mtrain_test_split\u001b[0m\u001b[0;34m(\u001b[0m\u001b[0mX\u001b[0m\u001b[0;34m,\u001b[0m\u001b[0my\u001b[0m\u001b[0;34m,\u001b[0m\u001b[0mtest_size\u001b[0m\u001b[0;34m=\u001b[0m\u001b[0;36m0.3\u001b[0m\u001b[0;34m,\u001b[0m\u001b[0mrandom_state\u001b[0m\u001b[0;34m=\u001b[0m\u001b[0;36m0\u001b[0m\u001b[0;34m)\u001b[0m\u001b[0;34m\u001b[0m\u001b[0;34m\u001b[0m\u001b[0m\n\u001b[0m",
            "\u001b[0;31mNameError\u001b[0m: name 'X' is not defined"
          ]
        }
      ]
    },
    {
      "cell_type": "code",
      "metadata": {
        "id": "lH1UhbX7YE-H"
      },
      "source": [
        "# Define per-fold score containers\n",
        "acc_per_fold = []\n",
        "loss_per_fold = []\n",
        "\n",
        "# # Merge inputs and targets\n",
        "# inputs = np.concatenate((input_train, input_test), axis=0)\n",
        "# targets = np.concatenate((target_train, target_test), axis=0)\n",
        "\n",
        "# Define the K-fold Cross Validator\n",
        "kfold = KFold(n_splits=10, shuffle=True)\n",
        "\n",
        "# K-fold Cross Validation model evaluation\n",
        "fold_no = 1\n",
        "for train, test in kfold.split(X_train, y_train):\n",
        "  model = Sequential()\n",
        "\n",
        "# 2 LSTM layers\n",
        "  audio_input = Input(shape=(1, 80, ))\n",
        "  lstm_layer = Bidirectional(LSTM(64, return_sequences=True))(audio_input)\n",
        "  attn_layer = AttLayer(100)(lstm_layer)\n",
        "  dense1 = Dense(64, activation='relu')(attn_layer)\n",
        "#model.add(keras.layers.Dropout(0.3))\n",
        "  output1 = Dense(2, activation='softmax')(dense1)\n",
        "  model = Model(inputs = audio_input, outputs = output1)\n",
        "\n",
        "  model\n",
        "\n",
        "  # Compile the model\n",
        "  model.compile(loss='categorical_crossentropy',metrics=['accuracy'],optimizer='adam')\n",
        "\n",
        "\n",
        "  # Generate a print\n",
        "  print('------------------------------------------------------------------------')\n",
        "  print(f'Training for fold {fold_no} ...')\n",
        "\n",
        "  # Fit data to model\n",
        "  history = model.fit(X_train, y_train, validation_data=(X_eval, y_eval), batch_size=32, epochs=50)\n",
        "\n",
        "  # Generate generalization metrics\n",
        "  scores = model.evaluate(X_test, y_test, verbose=0)\n",
        "  print(f'Score for fold {fold_no}: {model.metrics_names[0]} of {scores[0]}; {model.metrics_names[1]} of {scores[1]*100}%')\n",
        "  acc_per_fold.append(scores[1] * 100)\n",
        "  loss_per_fold.append(scores[0])\n",
        "\n",
        "  # Increase fold number\n",
        "  fold_no = fold_no + 1"
      ],
      "execution_count": null,
      "outputs": []
    },
    {
      "cell_type": "code",
      "metadata": {
        "colab": {
          "base_uri": "https://localhost:8080/"
        },
        "id": "VlzP_Y2QY0oi",
        "outputId": "b96c1741-e24a-49c7-a128-60dc329f0ed9"
      },
      "source": [
        "# == Provide average scores ==\n",
        "print('------------------------------------------------------------------------')\n",
        "print('Score per fold')\n",
        "for i in range(0, len(acc_per_fold)):\n",
        "  print('------------------------------------------------------------------------')\n",
        "  print(f'> Fold {i+1} - Loss: {loss_per_fold[i]} - Accuracy: {acc_per_fold[i]}%')\n",
        "print('------------------------------------------------------------------------')\n",
        "print('Average scores for all folds:')\n",
        "print(f'> Accuracy: {np.mean(acc_per_fold)} (+- {np.std(acc_per_fold)})')\n",
        "print(f'> Loss: {np.mean(loss_per_fold)}')\n",
        "print('------------------------------------------------------------------------')"
      ],
      "execution_count": null,
      "outputs": [
        {
          "output_type": "stream",
          "name": "stdout",
          "text": [
            "------------------------------------------------------------------------\n",
            "Score per fold\n",
            "------------------------------------------------------------------------\n",
            "> Fold 1 - Loss: 0.28094926476478577 - Accuracy: 93.35453510284424%\n",
            "------------------------------------------------------------------------\n",
            "> Fold 2 - Loss: 0.28137585520744324 - Accuracy: 93.14925074577332%\n",
            "------------------------------------------------------------------------\n",
            "> Fold 3 - Loss: 0.26499807834625244 - Accuracy: 91.50700569152832%\n",
            "------------------------------------------------------------------------\n",
            "> Fold 4 - Loss: 0.22577208280563354 - Accuracy: 91.80888533592224%\n",
            "------------------------------------------------------------------------\n",
            "> Fold 5 - Loss: 0.3630423843860626 - Accuracy: 92.30800271034241%\n",
            "------------------------------------------------------------------------\n",
            "> Fold 6 - Loss: 0.29368138313293457 - Accuracy: 91.90146327018738%\n",
            "------------------------------------------------------------------------\n",
            "> Fold 7 - Loss: 0.42816129326820374 - Accuracy: 91.70423150062561%\n",
            "------------------------------------------------------------------------\n",
            "> Fold 8 - Loss: 0.29373204708099365 - Accuracy: 92.38448143005371%\n",
            "------------------------------------------------------------------------\n",
            "> Fold 9 - Loss: 0.3578724265098572 - Accuracy: 91.74851179122925%\n",
            "------------------------------------------------------------------------\n",
            "> Fold 10 - Loss: 0.29241451621055603 - Accuracy: 91.76461100578308%\n",
            "------------------------------------------------------------------------\n",
            "Average scores for all folds:\n",
            "> Accuracy: 92.16309785842896 (+- 0.6022986086648063)\n",
            "> Loss: 0.30819993317127226\n",
            "------------------------------------------------------------------------\n"
          ]
        }
      ]
    },
    {
      "cell_type": "code",
      "metadata": {
        "id": "DnPeqJ88WJNw"
      },
      "source": [
        "\n",
        "### Train Test Split\n",
        "from sklearn.model_selection import train_test_split\n",
        "X_train,X_test,y_train,y_test=train_test_split(X,y,test_size=0.3,random_state=0)\n",
        "# X_train, X_test, y_train, y_test = train_test_split(X, y, test_size=test_size)\n",
        "X_train, X_validation, y_train, y_validation = train_test_split(X_train, y_train, test_size=0.2)"
      ],
      "execution_count": null,
      "outputs": []
    },
    {
      "cell_type": "code",
      "metadata": {
        "id": "eA4RvNQKWpL0"
      },
      "source": [
        "from tensorflow.keras.models import Sequential\n",
        "from tensorflow.keras.layers import Dense,Dropout,Activation,Flatten\n",
        "from tensorflow.keras.optimizers import Adam\n",
        "from sklearn import metrics"
      ],
      "execution_count": null,
      "outputs": []
    },
    {
      "cell_type": "code",
      "metadata": {
        "id": "a22QnP7IWrt7"
      },
      "source": [
        "class AttLayer(Layer):\n",
        "    def __init__(self, attention_dim):\n",
        "        self.init = initializers.get('normal')\n",
        "        self.supports_masking = True\n",
        "        self.attention_dim = attention_dim\n",
        "        super(AttLayer, self).__init__()\n",
        "\n",
        "    def build(self, input_shape):\n",
        "        assert len(input_shape) == 3\n",
        "        self.W = K.variable(self.init((input_shape[-1], self.attention_dim)))\n",
        "        self.b = K.variable(self.init((self.attention_dim, )))\n",
        "        self.u = K.variable(self.init((self.attention_dim, 1)))\n",
        "        self._trainable_weights = [self.W, self.b, self.u]\n",
        "        super(AttLayer, self).build(input_shape)\n",
        "\n",
        "    def compute_mask(self, inputs, mask=None):\n",
        "        return None\n",
        "\n",
        "    def call(self, x, mask=None):\n",
        "        # size of x :[batch_size, sel_len, attention_dim]\n",
        "        # size of u :[batch_size, attention_dim]\n",
        "        # uit = tanh(xW+b)\n",
        "        uit = K.tanh(K.bias_add(K.dot(x, self.W), self.b))\n",
        "        ait = K.dot(uit, self.u)\n",
        "        ait = K.squeeze(ait, -1)\n",
        "        \n",
        "        ait = K.exp(ait)\n",
        "\n",
        "        if mask is not None:\n",
        "            # Cast the mask to floatX to avoid float64 upcasting in theano\n",
        "            ait *= K.cast(mask, K.floatx())\n",
        "        ait /= K.cast(K.sum(ait, axis=1, keepdims=True) + K.epsilon(), K.floatx())\n",
        "        ait = K.expand_dims(ait)\n",
        "        weighted_input = x * ait\n",
        "        output = K.sum(weighted_input, axis=1)\n",
        "\n",
        "        return output\n",
        "\n",
        "    def compute_output_shape(self, input_shape):\n",
        "        return (input_shape[0], input_shape[-1])"
      ],
      "execution_count": null,
      "outputs": []
    },
    {
      "cell_type": "code",
      "metadata": {
        "colab": {
          "base_uri": "https://localhost:8080/"
        },
        "id": "-tflaaHqWvwW",
        "outputId": "2a343c03-211c-47b1-8ca7-91161deb09db"
      },
      "source": [
        "model = Sequential()\n",
        "\n",
        "# 2 LSTM layers\n",
        "audio_input = Input(shape=(1, 40, ))\n",
        "lstm_layer = Bidirectional(LSTM(64, return_sequences=True))(audio_input)\n",
        "#lstm_layer2 = Bidirectional(LSTM(64))(lstm_layer)\n",
        "attn_layer = AttLayer(100)(lstm_layer)\n",
        "dense1 = Dense(64, activation='relu')(attn_layer)\n",
        "drop1 = Dropout(0.3)(dense1)\n",
        "output1 = Dense(2, activation='softmax')(drop1)\n",
        "model = Model(inputs = audio_input, outputs = output1)\n",
        "\n",
        "model"
      ],
      "execution_count": null,
      "outputs": [
        {
          "output_type": "execute_result",
          "data": {
            "text/plain": [
              "<keras.engine.functional.Functional at 0x7f89bee97450>"
            ]
          },
          "metadata": {},
          "execution_count": 92
        }
      ]
    },
    {
      "cell_type": "code",
      "metadata": {
        "colab": {
          "base_uri": "https://localhost:8080/"
        },
        "id": "-J_gEm-1WzuF",
        "outputId": "8daae5d2-8261-439c-e49a-3ebbd53ff938"
      },
      "source": [
        "model.summary()"
      ],
      "execution_count": null,
      "outputs": [
        {
          "output_type": "stream",
          "name": "stdout",
          "text": [
            "Model: \"model_4\"\n",
            "_________________________________________________________________\n",
            "Layer (type)                 Output Shape              Param #   \n",
            "=================================================================\n",
            "input_5 (InputLayer)         [(None, 1, 40)]           0         \n",
            "_________________________________________________________________\n",
            "bidirectional_4 (Bidirection (None, 1, 128)            53760     \n",
            "_________________________________________________________________\n",
            "att_layer_4 (AttLayer)       (None, 128)               13000     \n",
            "_________________________________________________________________\n",
            "dense_8 (Dense)              (None, 64)                8256      \n",
            "_________________________________________________________________\n",
            "dropout_4 (Dropout)          (None, 64)                0         \n",
            "_________________________________________________________________\n",
            "dense_9 (Dense)              (None, 2)                 130       \n",
            "=================================================================\n",
            "Total params: 75,146\n",
            "Trainable params: 75,146\n",
            "Non-trainable params: 0\n",
            "_________________________________________________________________\n"
          ]
        }
      ]
    },
    {
      "cell_type": "code",
      "metadata": {
        "id": "Sc5wiPvrW9vl"
      },
      "source": [
        "model.compile(loss='categorical_crossentropy',metrics=['accuracy'],optimizer='adam')"
      ],
      "execution_count": null,
      "outputs": []
    },
    {
      "cell_type": "code",
      "metadata": {
        "id": "x4HwmImKt8xH"
      },
      "source": [
        "\n",
        "history = model.fit(X_train, y_train, batch_size=64, epochs=50)"
      ],
      "execution_count": null,
      "outputs": []
    },
    {
      "cell_type": "code",
      "metadata": {
        "id": "Y4e4afDsJj5S"
      },
      "source": [
        "from scipy.optimize import brentq\n",
        "from scipy.interpolate import interp1d\n",
        "from sklearn.metrics import roc_curve,auc"
      ],
      "execution_count": null,
      "outputs": []
    },
    {
      "cell_type": "code",
      "metadata": {
        "colab": {
          "base_uri": "https://localhost:8080/"
        },
        "id": "lUpPymvOJ8No",
        "outputId": "66727d77-f294-4ae5-f4fd-6c522f195106"
      },
      "source": [
        "y_score_eval = model.predict_on_batch(X_eval)\n",
        "#y_score_eval = y_score_eval[:,1]\n",
        "# y_eval = y_eval[:,1]\n",
        "fpr_eval, tpr_eval, thresh_eval = roc_curve(y_eval[:,1], y_score_eval[:,1])\n",
        "eer_eval = brentq(lambda x : 1. - x - interp1d(fpr_eval, tpr_eval)(x), 0., 1.)\n",
        "thresh_eval = interp1d(fpr_eval, thresh_eval)(eer_eval)\n",
        "fpr_eval, tpr_eval"
      ],
      "execution_count": null,
      "outputs": [
        {
          "output_type": "execute_result",
          "data": {
            "text/plain": [
              "(array([0.        , 0.23562203, 0.32522094, ..., 0.99986404, 1.        ,\n",
              "        1.        ]),\n",
              " array([0.        , 0.41991484, 0.48519145, ..., 0.99978085, 0.99978085,\n",
              "        1.        ]))"
            ]
          },
          "metadata": {},
          "execution_count": 97
        }
      ]
    },
    {
      "cell_type": "code",
      "metadata": {
        "colab": {
          "base_uri": "https://localhost:8080/"
        },
        "id": "c7z80s0Y6ihq",
        "outputId": "447de35e-97ca-4d7e-c40c-0e5e53d4c3d0"
      },
      "source": [
        "eer_eval, thresh_eval"
      ],
      "execution_count": null,
      "outputs": [
        {
          "output_type": "execute_result",
          "data": {
            "text/plain": [
              "(0.42820471483460887, array(0.99999942))"
            ]
          },
          "metadata": {},
          "execution_count": 98
        }
      ]
    },
    {
      "cell_type": "code",
      "metadata": {
        "id": "1K_N-nd5OnFM"
      },
      "source": [
        "n_classes = 2\n",
        "fpr_eval = dict()\n",
        "tpr_eval = dict()\n",
        "fnr_eval = dict()\n",
        "roc_auc_eval = dict()\n",
        "for i in range(n_classes):\n",
        "    fpr_eval[i], tpr_eval[i], thresh_eval = roc_curve(y_eval[:, i], y_score_eval[:, i])\n",
        "    fnr_eval[i] = 1-tpr_eval[i]\n",
        "    roc_auc_eval[i] = auc(fpr_eval[i], tpr_eval[i])\n",
        "# Compute ROC curve and ROC area for each class\n",
        "fpr_final_eval=[]\n",
        "tpr_final_eval=[]\n",
        "roc_auc_final_eval=[]\n",
        "fnr_final_eval=[]\n",
        "  # Compute micro-average ROC curve and ROC area\n",
        "fpr_eval[\"micro\"], tpr_eval[\"micro\"], _= roc_curve(y_eval.ravel(), y_score_eval.ravel())\n",
        "roc_auc_eval[\"micro\"] = auc(fpr_eval[\"micro\"], tpr_eval[\"micro\"])\n",
        "fpr_final_eval.append(fpr_eval[\"micro\"])\n",
        "tpr_final_eval.append(tpr_eval[\"micro\"])\n",
        "roc_auc_final_eval.append(roc_auc_eval[\"micro\"])"
      ],
      "execution_count": null,
      "outputs": []
    },
    {
      "cell_type": "code",
      "metadata": {
        "id": "hvWzvZlGRWzF"
      },
      "source": [
        "names=['attention+mfcc']\n",
        "models=[model]"
      ],
      "execution_count": null,
      "outputs": []
    },
    {
      "cell_type": "code",
      "metadata": {
        "colab": {
          "base_uri": "https://localhost:8080/",
          "height": 295
        },
        "id": "3iWuyh3yPsqk",
        "outputId": "71b848d4-cd5f-4f53-f2c2-9acd13d1263c"
      },
      "source": [
        "#plt.figure(figsize=(10,8))\n",
        "lw = 2\n",
        "for i in range(len(models)):\n",
        "  temp='ROC curve of '+names[i]+' (area = %0.7f)' % roc_auc_eval[\"micro\"]\n",
        "  plt.plot(fpr_final_eval[i], tpr_final_eval[i],\n",
        "           label=temp)\n",
        "  \n",
        "plt.plot([0, 1], [0, 1], color='navy', lw=lw, linestyle='--')\n",
        "plt.xlim([-0.1, 1.0])\n",
        "plt.ylim([-0.1, 1.05])\n",
        "plt.xlabel('False Positive Rate')\n",
        "plt.ylabel('True Positive Rate')\n",
        "plt.title('ROC on Evaluation Dataset')\n",
        "plt.legend(loc=\"lower right\")\n",
        "plt.grid()\n",
        "plt.savefig('/content/drive/MyDrive/Naseem IITP/mfcc1.png')"
      ],
      "execution_count": null,
      "outputs": [
        {
          "output_type": "display_data",
          "data": {
            "image/png": "[encoded data removed]",
            "text/plain": [
              "<Figure size 432x288 with 1 Axes>"
            ]
          },
          "metadata": {
            "needs_background": "light"
          }
        }
      ]
    },
    {
      "cell_type": "code",
      "metadata": {
        "colab": {
          "base_uri": "https://localhost:8080/"
        },
        "id": "0VsLtdVQb4Ke",
        "outputId": "ab2c7a1b-dce4-4521-d936-f8df7c467344"
      },
      "source": [
        "y_score_dev = model.predict_on_batch(X_dev)\n",
        "# y_score_dev = y_dev[:,1]\n",
        "# y_dev = y_dev[:,1]\n",
        "fpr_dev, tpr_dev, thresh_dev = roc_curve(y_dev[:,1], y_score_dev[:,1])\n",
        "eer_dev = brentq(lambda x : 1. - x - interp1d(fpr_dev, tpr_dev)(x), 0., 1.)\n",
        "thresh_dev = interp1d(fpr_dev, thresh_dev)(eer_dev)\n",
        "fpr_dev, tpr_dev"
      ],
      "execution_count": null,
      "outputs": [
        {
          "output_type": "execute_result",
          "data": {
            "text/plain": [
              "(array([0.        , 0.00313972, 0.00470958, ..., 0.96546311, 0.96546311,\n",
              "        1.        ]),\n",
              " array([0.        , 0.19608898, 0.23214926, ..., 0.99995515, 1.        ,\n",
              "        1.        ]))"
            ]
          },
          "metadata": {},
          "execution_count": 102
        }
      ]
    },
    {
      "cell_type": "code",
      "metadata": {
        "colab": {
          "base_uri": "https://localhost:8080/"
        },
        "id": "qnY75AzFcy1n",
        "outputId": "88b900d5-5371-47fe-bae2-a382a2470e72"
      },
      "source": [
        "eer_dev, thresh_dev"
      ],
      "execution_count": null,
      "outputs": [
        {
          "output_type": "execute_result",
          "data": {
            "text/plain": [
              "(0.20722135007953293, array(0.96244764))"
            ]
          },
          "metadata": {},
          "execution_count": 103
        }
      ]
    },
    {
      "cell_type": "code",
      "metadata": {
        "id": "p6gtNLf8d9nd"
      },
      "source": [
        "n_classes = 2\n",
        "fpr = dict()\n",
        "tpr = dict()\n",
        "fnr = dict()\n",
        "roc_auc = dict()\n",
        "y_score_dev = model.predict_on_batch(X_dev)\n",
        "for i in range(n_classes):\n",
        "    fpr[i], tpr[i], thresh_dev = roc_curve(y_dev[:, i], y_score_dev[:, i])\n",
        "    fnr[i] = 1-tpr[i]\n",
        "    roc_auc[i] = auc(fpr[i], tpr[i])\n",
        "# Compute ROC curve and ROC area for each class\n",
        "fpr_final=[]\n",
        "tpr_final=[]\n",
        "roc_auc_final=[]\n",
        "fnr_final=[]\n",
        "  # Compute micro-average ROC curve and ROC area\n",
        "fpr[\"micro\"], tpr[\"micro\"], _= roc_curve(y_dev.ravel(), y_score_dev.ravel())\n",
        "roc_auc[\"micro\"] = auc(fpr[\"micro\"], tpr[\"micro\"])\n",
        "fpr_final.append(fpr[\"micro\"])\n",
        "tpr_final.append(tpr[\"micro\"])\n",
        "roc_auc_final.append(roc_auc[\"micro\"])"
      ],
      "execution_count": null,
      "outputs": []
    },
    {
      "cell_type": "code",
      "metadata": {
        "colab": {
          "base_uri": "https://localhost:8080/"
        },
        "id": "gOOKge2dfHlB",
        "outputId": "5b63eac9-b7fe-4872-9c5a-93a8cab681ee"
      },
      "source": [
        "thresh_eval"
      ],
      "execution_count": null,
      "outputs": [
        {
          "output_type": "execute_result",
          "data": {
            "text/plain": [
              "array([2.0000000e+00, 1.0000000e+00, 9.9999988e-01, ..., 1.1424191e-02,\n",
              "       1.1280094e-02, 4.5121019e-04], dtype=float32)"
            ]
          },
          "metadata": {},
          "execution_count": 105
        }
      ]
    },
    {
      "cell_type": "code",
      "metadata": {
        "colab": {
          "base_uri": "https://localhost:8080/"
        },
        "id": "abp03fFbfB05",
        "outputId": "9ee5f73f-64d5-4c82-fb83-e852d3d486a0"
      },
      "source": [
        "thresh_dev"
      ],
      "execution_count": null,
      "outputs": [
        {
          "output_type": "execute_result",
          "data": {
            "text/plain": [
              "array([2.0000000e+00, 1.0000000e+00, 9.9999988e-01, ..., 1.9584867e-04,\n",
              "       1.9252632e-04, 9.1079855e-06], dtype=float32)"
            ]
          },
          "metadata": {},
          "execution_count": 106
        }
      ]
    },
    {
      "cell_type": "code",
      "metadata": {
        "colab": {
          "base_uri": "https://localhost:8080/",
          "height": 295
        },
        "id": "bVUpfl2AeqOR",
        "outputId": "eeee0a6e-1110-4681-e273-4342d5c59dd0"
      },
      "source": [
        "#plt.figure(figsize=(10,8))\n",
        "lw = 2\n",
        "for i in range(len(models)):\n",
        "  temp='ROC curve of '+names[i]+' (area = %0.7f)' % roc_auc[\"micro\"]\n",
        "  plt.plot(fpr_final[i], tpr_final[i],\n",
        "           label=temp)\n",
        "  \n",
        "plt.plot([0, 1], [0, 1], color='navy', lw=lw, linestyle='--')\n",
        "plt.xlim([-0.1, 1.0])\n",
        "plt.ylim([-0.1, 1.05])\n",
        "plt.xlabel('False Positive Rate')\n",
        "plt.ylabel('True Positive Rate')\n",
        "plt.title('ROC on Development Dataset')\n",
        "plt.legend(loc=\"lower right\")\n",
        "plt.grid()\n",
        "plt.savefig('/content/drive/MyDrive/Naseem IITP/mfcc2.png')"
      ],
      "execution_count": null,
      "outputs": [
        {
          "output_type": "display_data",
          "data": {
            "image/png": "[encoded data removed]",
            "text/plain": [
              "<Figure size 432x288 with 1 Axes>"
            ]
          },
          "metadata": {
            "needs_background": "light"
          }
        }
      ]
    },
    {
      "cell_type": "code",
      "metadata": {
        "colab": {
          "base_uri": "https://localhost:8080/"
        },
        "id": "nbfQNktyXBn2",
        "outputId": "b8d751aa-11e4-46dd-caa5-6176477f69d1"
      },
      "source": [
        "## Trianing my model\n",
        "from tensorflow.keras.callbacks import ModelCheckpoint\n",
        "from datetime import datetime \n",
        "\n",
        "num_epochs = 100\n",
        "num_batch_size = 32\n",
        "\n",
        "checkpointer = ModelCheckpoint(filepath='/content/drive/MyDrive/audio_classification.hdf5', \n",
        "                               verbose=1, save_best_only=True)\n",
        "start = datetime.now()\n",
        "\n",
        "\n",
        "history = model.fit(X_train, y_train, validation_data=(X_eval, y_eval), batch_size=32, epochs=100)\n",
        "\n",
        "duration = datetime.now() - start\n",
        "print(\"Training completed in time: \", duration)"
      ],
      "execution_count": null,
      "outputs": [
        {
          "output_type": "stream",
          "name": "stdout",
          "text": [
            "Epoch 1/100\n",
            "794/794 [==============================] - 12s 10ms/step - loss: 0.2267 - accuracy: 0.9086 - val_loss: 0.2610 - val_accuracy: 0.8975\n",
            "Epoch 2/100\n",
            "794/794 [==============================] - 7s 9ms/step - loss: 0.1584 - accuracy: 0.9352 - val_loss: 0.2532 - val_accuracy: 0.8892\n",
            "Epoch 3/100\n",
            "794/794 [==============================] - 7s 9ms/step - loss: 0.1267 - accuracy: 0.9495 - val_loss: 0.2622 - val_accuracy: 0.8896\n",
            "Epoch 4/100\n",
            "794/794 [==============================] - 9s 11ms/step - loss: 0.1091 - accuracy: 0.9578 - val_loss: 0.3360 - val_accuracy: 0.8581\n",
            "Epoch 5/100\n",
            "794/794 [==============================] - 7s 9ms/step - loss: 0.0989 - accuracy: 0.9632 - val_loss: 0.2930 - val_accuracy: 0.8826\n",
            "Epoch 6/100\n",
            "794/794 [==============================] - 7s 9ms/step - loss: 0.0940 - accuracy: 0.9658 - val_loss: 0.3157 - val_accuracy: 0.8732\n",
            "Epoch 7/100\n",
            "794/794 [==============================] - 9s 11ms/step - loss: 0.0892 - accuracy: 0.9666 - val_loss: 0.3138 - val_accuracy: 0.8955\n",
            "Epoch 8/100\n",
            "794/794 [==============================] - 7s 9ms/step - loss: 0.0860 - accuracy: 0.9679 - val_loss: 0.3389 - val_accuracy: 0.8721\n",
            "Epoch 9/100\n",
            "794/794 [==============================] - 7s 9ms/step - loss: 0.0906 - accuracy: 0.9660 - val_loss: 0.3180 - val_accuracy: 0.8840\n",
            "Epoch 10/100\n",
            "794/794 [==============================] - 7s 9ms/step - loss: 0.0916 - accuracy: 0.9651 - val_loss: 0.3061 - val_accuracy: 0.8927\n",
            "Epoch 11/100\n",
            "794/794 [==============================] - 7s 9ms/step - loss: 0.0860 - accuracy: 0.9679 - val_loss: 0.3456 - val_accuracy: 0.8573\n",
            "Epoch 12/100\n",
            "794/794 [==============================] - 9s 11ms/step - loss: 0.0794 - accuracy: 0.9708 - val_loss: 0.3314 - val_accuracy: 0.8670\n",
            "Epoch 13/100\n",
            "794/794 [==============================] - 7s 9ms/step - loss: 0.0807 - accuracy: 0.9712 - val_loss: 0.4169 - val_accuracy: 0.8417\n",
            "Epoch 14/100\n",
            "794/794 [==============================] - 9s 11ms/step - loss: 0.0854 - accuracy: 0.9682 - val_loss: 0.3174 - val_accuracy: 0.8822\n",
            "Epoch 15/100\n",
            "794/794 [==============================] - 7s 9ms/step - loss: 0.0805 - accuracy: 0.9699 - val_loss: 0.3230 - val_accuracy: 0.8916\n",
            "Epoch 16/100\n",
            "794/794 [==============================] - 7s 9ms/step - loss: 0.0801 - accuracy: 0.9704 - val_loss: 0.3984 - val_accuracy: 0.8583\n",
            "Epoch 17/100\n",
            "794/794 [==============================] - 7s 9ms/step - loss: 0.0770 - accuracy: 0.9725 - val_loss: 0.3911 - val_accuracy: 0.8510\n",
            "Epoch 18/100\n",
            "794/794 [==============================] - 7s 9ms/step - loss: 0.0769 - accuracy: 0.9723 - val_loss: 0.3171 - val_accuracy: 0.8739\n",
            "Epoch 19/100\n",
            "794/794 [==============================] - 7s 9ms/step - loss: 0.0767 - accuracy: 0.9718 - val_loss: 0.4306 - val_accuracy: 0.8366\n",
            "Epoch 20/100\n",
            "794/794 [==============================] - 7s 9ms/step - loss: 0.0756 - accuracy: 0.9732 - val_loss: 0.3153 - val_accuracy: 0.8880\n",
            "Epoch 21/100\n",
            "794/794 [==============================] - 7s 9ms/step - loss: 0.0716 - accuracy: 0.9746 - val_loss: 0.3567 - val_accuracy: 0.8785\n",
            "Epoch 22/100\n",
            "794/794 [==============================] - 7s 9ms/step - loss: 0.0757 - accuracy: 0.9726 - val_loss: 0.3156 - val_accuracy: 0.8961\n",
            "Epoch 23/100\n",
            "794/794 [==============================] - 9s 11ms/step - loss: 0.0732 - accuracy: 0.9733 - val_loss: 0.3033 - val_accuracy: 0.8895\n",
            "Epoch 24/100\n",
            "794/794 [==============================] - 7s 9ms/step - loss: 0.0721 - accuracy: 0.9753 - val_loss: 0.3579 - val_accuracy: 0.8651\n",
            "Epoch 25/100\n",
            "794/794 [==============================] - 9s 11ms/step - loss: 0.0674 - accuracy: 0.9768 - val_loss: 0.3897 - val_accuracy: 0.8673\n",
            "Epoch 26/100\n",
            "794/794 [==============================] - 7s 9ms/step - loss: 0.0745 - accuracy: 0.9729 - val_loss: 0.4388 - val_accuracy: 0.8274\n",
            "Epoch 27/100\n",
            "794/794 [==============================] - 9s 11ms/step - loss: 0.0715 - accuracy: 0.9738 - val_loss: 0.3267 - val_accuracy: 0.8850\n",
            "Epoch 28/100\n",
            "794/794 [==============================] - 7s 9ms/step - loss: 0.0775 - accuracy: 0.9712 - val_loss: 0.4340 - val_accuracy: 0.8120\n",
            "Epoch 29/100\n",
            "794/794 [==============================] - 7s 9ms/step - loss: 0.0773 - accuracy: 0.9710 - val_loss: 0.3735 - val_accuracy: 0.8830\n",
            "Epoch 30/100\n",
            "794/794 [==============================] - 7s 9ms/step - loss: 0.0760 - accuracy: 0.9718 - val_loss: 0.3390 - val_accuracy: 0.8931\n",
            "Epoch 31/100\n",
            "794/794 [==============================] - 7s 9ms/step - loss: 0.0726 - accuracy: 0.9714 - val_loss: 0.3175 - val_accuracy: 0.8881\n",
            "Epoch 32/100\n",
            "794/794 [==============================] - 7s 9ms/step - loss: 0.0781 - accuracy: 0.9692 - val_loss: 0.3207 - val_accuracy: 0.8888\n",
            "Epoch 33/100\n",
            "794/794 [==============================] - 7s 9ms/step - loss: 0.0720 - accuracy: 0.9739 - val_loss: 0.4327 - val_accuracy: 0.8504\n",
            "Epoch 34/100\n",
            "794/794 [==============================] - 7s 9ms/step - loss: 0.0783 - accuracy: 0.9708 - val_loss: 0.4421 - val_accuracy: 0.8451\n",
            "Epoch 35/100\n",
            "794/794 [==============================] - 7s 9ms/step - loss: 0.0713 - accuracy: 0.9738 - val_loss: 0.3151 - val_accuracy: 0.8787\n",
            "Epoch 36/100\n",
            "794/794 [==============================] - 7s 9ms/step - loss: 0.0737 - accuracy: 0.9730 - val_loss: 0.3466 - val_accuracy: 0.8807\n",
            "Epoch 37/100\n",
            "794/794 [==============================] - 7s 9ms/step - loss: 0.0675 - accuracy: 0.9748 - val_loss: 0.4401 - val_accuracy: 0.8508\n",
            "Epoch 38/100\n",
            "794/794 [==============================] - 7s 9ms/step - loss: 0.0705 - accuracy: 0.9730 - val_loss: 0.4535 - val_accuracy: 0.8473\n",
            "Epoch 39/100\n",
            "794/794 [==============================] - 7s 9ms/step - loss: 0.0676 - accuracy: 0.9742 - val_loss: 0.3052 - val_accuracy: 0.8909\n",
            "Epoch 40/100\n",
            "794/794 [==============================] - 9s 11ms/step - loss: 0.0714 - accuracy: 0.9729 - val_loss: 0.3292 - val_accuracy: 0.8761\n",
            "Epoch 41/100\n",
            "794/794 [==============================] - 7s 9ms/step - loss: 0.0678 - accuracy: 0.9756 - val_loss: 0.4991 - val_accuracy: 0.8369\n",
            "Epoch 42/100\n",
            "794/794 [==============================] - 7s 9ms/step - loss: 0.0669 - accuracy: 0.9757 - val_loss: 0.3879 - val_accuracy: 0.8676\n",
            "Epoch 43/100\n",
            "794/794 [==============================] - 7s 9ms/step - loss: 0.0685 - accuracy: 0.9757 - val_loss: 0.3629 - val_accuracy: 0.8672\n",
            "Epoch 44/100\n",
            "794/794 [==============================] - 7s 9ms/step - loss: 0.0629 - accuracy: 0.9763 - val_loss: 0.3517 - val_accuracy: 0.8892\n",
            "Epoch 45/100\n",
            "794/794 [==============================] - 7s 9ms/step - loss: 0.0695 - accuracy: 0.9750 - val_loss: 0.3493 - val_accuracy: 0.8757\n",
            "Epoch 46/100\n",
            "794/794 [==============================] - 9s 11ms/step - loss: 0.0649 - accuracy: 0.9762 - val_loss: 0.3376 - val_accuracy: 0.8771\n",
            "Epoch 47/100\n",
            "794/794 [==============================] - 9s 11ms/step - loss: 0.0658 - accuracy: 0.9763 - val_loss: 0.4304 - val_accuracy: 0.8468\n",
            "Epoch 48/100\n",
            "794/794 [==============================] - 9s 11ms/step - loss: 0.0646 - accuracy: 0.9760 - val_loss: 0.4754 - val_accuracy: 0.8305\n",
            "Epoch 49/100\n",
            "794/794 [==============================] - 8s 9ms/step - loss: 0.0651 - accuracy: 0.9768 - val_loss: 0.3783 - val_accuracy: 0.8701\n",
            "Epoch 50/100\n",
            "794/794 [==============================] - 7s 9ms/step - loss: 0.0656 - accuracy: 0.9758 - val_loss: 0.3499 - val_accuracy: 0.8869\n",
            "Epoch 51/100\n",
            "794/794 [==============================] - 9s 11ms/step - loss: 0.0648 - accuracy: 0.9766 - val_loss: 0.4187 - val_accuracy: 0.8545\n",
            "Epoch 52/100\n",
            "794/794 [==============================] - 7s 9ms/step - loss: 0.0667 - accuracy: 0.9758 - val_loss: 0.3841 - val_accuracy: 0.8763\n",
            "Epoch 53/100\n",
            "794/794 [==============================] - 9s 11ms/step - loss: 0.0601 - accuracy: 0.9783 - val_loss: 0.4097 - val_accuracy: 0.8472\n",
            "Epoch 54/100\n",
            "794/794 [==============================] - 9s 11ms/step - loss: 0.0622 - accuracy: 0.9786 - val_loss: 0.3540 - val_accuracy: 0.8672\n",
            "Epoch 55/100\n",
            "794/794 [==============================] - 7s 9ms/step - loss: 0.0600 - accuracy: 0.9783 - val_loss: 0.3721 - val_accuracy: 0.8604\n",
            "Epoch 56/100\n",
            "794/794 [==============================] - 7s 9ms/step - loss: 0.0614 - accuracy: 0.9780 - val_loss: 0.4202 - val_accuracy: 0.8519\n",
            "Epoch 57/100\n",
            "794/794 [==============================] - 7s 9ms/step - loss: 0.0622 - accuracy: 0.9777 - val_loss: 0.3929 - val_accuracy: 0.8687\n",
            "Epoch 58/100\n",
            "794/794 [==============================] - 7s 9ms/step - loss: 0.0622 - accuracy: 0.9778 - val_loss: 0.3684 - val_accuracy: 0.8647\n",
            "Epoch 59/100\n",
            "794/794 [==============================] - 7s 9ms/step - loss: 0.0600 - accuracy: 0.9775 - val_loss: 0.5669 - val_accuracy: 0.8051\n",
            "Epoch 60/100\n",
            "794/794 [==============================] - 7s 9ms/step - loss: 0.0599 - accuracy: 0.9778 - val_loss: 0.5091 - val_accuracy: 0.8395\n",
            "Epoch 61/100\n",
            "794/794 [==============================] - 7s 9ms/step - loss: 0.0586 - accuracy: 0.9787 - val_loss: 0.4341 - val_accuracy: 0.8569\n",
            "Epoch 62/100\n",
            "794/794 [==============================] - 7s 9ms/step - loss: 0.0579 - accuracy: 0.9790 - val_loss: 0.4301 - val_accuracy: 0.8629\n",
            "Epoch 63/100\n",
            "794/794 [==============================] - 7s 9ms/step - loss: 0.0588 - accuracy: 0.9790 - val_loss: 0.5347 - val_accuracy: 0.8266\n",
            "Epoch 64/100\n",
            "794/794 [==============================] - 7s 9ms/step - loss: 0.0603 - accuracy: 0.9779 - val_loss: 0.4517 - val_accuracy: 0.8189\n",
            "Epoch 65/100\n",
            "794/794 [==============================] - 7s 9ms/step - loss: 0.0590 - accuracy: 0.9786 - val_loss: 0.4536 - val_accuracy: 0.8567\n",
            "Epoch 66/100\n",
            "794/794 [==============================] - 9s 12ms/step - loss: 0.0606 - accuracy: 0.9779 - val_loss: 0.3816 - val_accuracy: 0.8764\n",
            "Epoch 67/100\n",
            "794/794 [==============================] - 7s 9ms/step - loss: 0.0581 - accuracy: 0.9793 - val_loss: 0.4178 - val_accuracy: 0.8623\n",
            "Epoch 68/100\n",
            "794/794 [==============================] - 7s 9ms/step - loss: 0.0591 - accuracy: 0.9790 - val_loss: 0.3471 - val_accuracy: 0.8853\n",
            "Epoch 69/100\n",
            "794/794 [==============================] - 9s 11ms/step - loss: 0.0571 - accuracy: 0.9794 - val_loss: 0.4277 - val_accuracy: 0.8611\n",
            "Epoch 70/100\n",
            "794/794 [==============================] - 8s 10ms/step - loss: 0.0570 - accuracy: 0.9796 - val_loss: 0.4363 - val_accuracy: 0.8307\n",
            "Epoch 71/100\n",
            "794/794 [==============================] - 7s 9ms/step - loss: 0.0571 - accuracy: 0.9792 - val_loss: 0.5755 - val_accuracy: 0.8004\n",
            "Epoch 72/100\n",
            "794/794 [==============================] - 7s 9ms/step - loss: 0.0590 - accuracy: 0.9787 - val_loss: 0.4301 - val_accuracy: 0.8651\n",
            "Epoch 73/100\n",
            "794/794 [==============================] - 7s 9ms/step - loss: 0.0578 - accuracy: 0.9793 - val_loss: 0.4538 - val_accuracy: 0.8438\n",
            "Epoch 74/100\n",
            "794/794 [==============================] - 9s 11ms/step - loss: 0.0601 - accuracy: 0.9785 - val_loss: 0.4822 - val_accuracy: 0.8116\n",
            "Epoch 75/100\n",
            "794/794 [==============================] - 9s 11ms/step - loss: 0.0572 - accuracy: 0.9803 - val_loss: 0.5199 - val_accuracy: 0.8375\n",
            "Epoch 76/100\n",
            "794/794 [==============================] - 7s 9ms/step - loss: 0.0568 - accuracy: 0.9795 - val_loss: 0.4565 - val_accuracy: 0.8596\n",
            "Epoch 77/100\n",
            "794/794 [==============================] - 7s 9ms/step - loss: 0.0558 - accuracy: 0.9798 - val_loss: 0.3452 - val_accuracy: 0.8961\n",
            "Epoch 78/100\n",
            "794/794 [==============================] - 7s 9ms/step - loss: 0.0598 - accuracy: 0.9789 - val_loss: 0.3459 - val_accuracy: 0.8804\n",
            "Epoch 79/100\n",
            "794/794 [==============================] - 7s 9ms/step - loss: 0.0589 - accuracy: 0.9790 - val_loss: 0.4582 - val_accuracy: 0.8444\n",
            "Epoch 80/100\n",
            "794/794 [==============================] - 7s 9ms/step - loss: 0.0532 - accuracy: 0.9813 - val_loss: 0.4204 - val_accuracy: 0.8619\n",
            "Epoch 81/100\n",
            "794/794 [==============================] - 7s 9ms/step - loss: 0.0551 - accuracy: 0.9798 - val_loss: 0.3788 - val_accuracy: 0.8820\n",
            "Epoch 82/100\n",
            "794/794 [==============================] - 7s 9ms/step - loss: 0.0585 - accuracy: 0.9792 - val_loss: 0.4402 - val_accuracy: 0.8401\n",
            "Epoch 83/100\n",
            "794/794 [==============================] - 7s 9ms/step - loss: 0.0575 - accuracy: 0.9792 - val_loss: 0.4611 - val_accuracy: 0.8532\n",
            "Epoch 84/100\n",
            "794/794 [==============================] - 9s 12ms/step - loss: 0.0585 - accuracy: 0.9801 - val_loss: 0.3585 - val_accuracy: 0.8835\n",
            "Epoch 85/100\n",
            "794/794 [==============================] - 7s 9ms/step - loss: 0.0579 - accuracy: 0.9788 - val_loss: 0.4285 - val_accuracy: 0.8632\n",
            "Epoch 86/100\n",
            "794/794 [==============================] - 7s 9ms/step - loss: 0.0572 - accuracy: 0.9797 - val_loss: 0.4428 - val_accuracy: 0.8559\n",
            "Epoch 87/100\n",
            "794/794 [==============================] - 9s 12ms/step - loss: 0.0555 - accuracy: 0.9795 - val_loss: 0.4052 - val_accuracy: 0.8676\n",
            "Epoch 88/100\n",
            "794/794 [==============================] - 7s 9ms/step - loss: 0.0537 - accuracy: 0.9810 - val_loss: 0.4529 - val_accuracy: 0.8697\n",
            "Epoch 89/100\n",
            "794/794 [==============================] - 7s 9ms/step - loss: 0.0554 - accuracy: 0.9799 - val_loss: 0.3667 - val_accuracy: 0.8879\n",
            "Epoch 90/100\n",
            "794/794 [==============================] - 9s 11ms/step - loss: 0.0611 - accuracy: 0.9787 - val_loss: 0.4148 - val_accuracy: 0.8477\n",
            "Epoch 91/100\n",
            "794/794 [==============================] - 7s 9ms/step - loss: 0.0581 - accuracy: 0.9788 - val_loss: 0.4721 - val_accuracy: 0.8515\n",
            "Epoch 92/100\n",
            "794/794 [==============================] - 9s 12ms/step - loss: 0.0671 - accuracy: 0.9762 - val_loss: 0.3266 - val_accuracy: 0.8949\n",
            "Epoch 93/100\n",
            "794/794 [==============================] - 9s 11ms/step - loss: 0.0546 - accuracy: 0.9805 - val_loss: 0.3990 - val_accuracy: 0.8588\n",
            "Epoch 94/100\n",
            "794/794 [==============================] - 7s 9ms/step - loss: 0.0528 - accuracy: 0.9816 - val_loss: 0.4026 - val_accuracy: 0.8698\n",
            "Epoch 95/100\n",
            "794/794 [==============================] - 7s 9ms/step - loss: 0.0541 - accuracy: 0.9806 - val_loss: 0.4281 - val_accuracy: 0.8791\n",
            "Epoch 96/100\n",
            "794/794 [==============================] - 7s 9ms/step - loss: 0.0527 - accuracy: 0.9810 - val_loss: 0.4782 - val_accuracy: 0.8423\n",
            "Epoch 97/100\n",
            "794/794 [==============================] - 7s 9ms/step - loss: 0.0556 - accuracy: 0.9800 - val_loss: 0.4451 - val_accuracy: 0.8516\n",
            "Epoch 98/100\n",
            "794/794 [==============================] - 7s 9ms/step - loss: 0.0562 - accuracy: 0.9799 - val_loss: 0.3933 - val_accuracy: 0.8581\n",
            "Epoch 99/100\n",
            "794/794 [==============================] - 9s 11ms/step - loss: 0.0555 - accuracy: 0.9815 - val_loss: 0.3622 - val_accuracy: 0.8933\n",
            "Epoch 100/100\n",
            "794/794 [==============================] - 8s 10ms/step - loss: 0.0598 - accuracy: 0.9788 - val_loss: 0.3850 - val_accuracy: 0.8764\n",
            "Training completed in time:  0:12:49.267621\n"
          ]
        }
      ]
    },
    {
      "cell_type": "code",
      "metadata": {
        "id": "ihbJXQS4XEt1",
        "colab": {
          "base_uri": "https://localhost:8080/",
          "height": 346
        },
        "outputId": "a86630e3-fd30-479a-bd67-f1142addc1a8"
      },
      "source": [
        "# plot accuracy/error for training and validation\n",
        "plot_history(history)\n",
        "\n",
        "# evaluate model on test set\n",
        "test_loss, test_acc = model.evaluate(X_test, y_test, verbose=2)\n",
        "print('\\nTest accuracy:', test_acc)"
      ],
      "execution_count": null,
      "outputs": [
        {
          "output_type": "display_data",
          "data": {
            "image/png": "[encoded data removed]",
            "text/plain": [
              "<Figure size 432x288 with 2 Axes>"
            ]
          },
          "metadata": {
            "needs_background": "light"
          }
        },
        {
          "output_type": "stream",
          "name": "stdout",
          "text": [
            "777/777 - 1s - loss: 0.2672 - accuracy: 0.9331\n",
            "\n",
            "Test accuracy: 0.933102548122406\n"
          ]
        }
      ]
    },
    {
      "cell_type": "code",
      "metadata": {
        "id": "PTrlcyHYw-5O"
      },
      "source": [
        ""
      ],
      "execution_count": null,
      "outputs": []
    }
  ]
}