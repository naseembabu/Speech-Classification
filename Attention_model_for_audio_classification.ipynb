{
  "nbformat": 4,
  "nbformat_minor": 0,
  "metadata": {
    "colab": {
      "name": "Attention model for audio classification.ipynb",
      "provenance": [],
      "toc_visible": true,
      "mount_file_id": "1izGxPVF-KRkhlp7CIEQYoB__z0bru-NS",
      "authorship_tag": "ABX9TyOz+5KWOvYzM2KxOAUWyfpf",
      "include_colab_link": true
    },
    "kernelspec": {
      "name": "python3",
      "display_name": "Python 3"
    },
    "language_info": {
      "name": "python"
    },
    "accelerator": "GPU"
  },
  "cells": [
    {
      "cell_type": "markdown",
      "metadata": {
        "id": "view-in-github",
        "colab_type": "text"
      },
      "source": [
        "<a href=\"https://colab.research.google.com/github/naseembabu/Speech-Classification/blob/main/Attention_model_for_audio_classification.ipynb\" target=\"_parent\"><img src=\"https://colab.research.google.com/assets/colab-badge.svg\" alt=\"Open In Colab\"/></a>"
      ]
    },
    {
      "cell_type": "code",
      "metadata": {
        "id": "BGVHwCdRAnsJ"
      },
      "source": [
        "import json\n",
        "import numpy as np\n",
        "from sklearn.model_selection import train_test_split\n",
        "import tensorflow.keras as keras\n",
        "import matplotlib.pyplot as plt\n",
        "from tensorflow.keras.models import Sequential\n",
        "from tensorflow.keras.layers import LSTM\n",
        "from tensorflow.keras.layers import Dense\n",
        "from tensorflow.keras.layers import Bidirectional\n",
        "from tensorflow.keras.layers import Dropout\n",
        "from tensorflow.keras.layers import Layer"
      ],
      "execution_count": null,
      "outputs": []
    },
    {
      "cell_type": "code",
      "metadata": {
        "id": "AsYO2LHLKODn"
      },
      "source": [
        "import pandas as pd\n",
        "import numpy as np\n",
        "import matplotlib.pyplot as plt\n",
        "from sklearn.model_selection import cross_val_score"
      ],
      "execution_count": null,
      "outputs": []
    },
    {
      "cell_type": "code",
      "metadata": {
        "id": "A-VmcE1B9fwW"
      },
      "source": [
        "DATA_PATH = \"/content/drive/MyDrive/musicgenre/data_10.json\"\n",
        "\n",
        "\n",
        "def load_data(data_path):\n",
        "    \"\"\"Loads training dataset from json file.\n",
        "        :param data_path (str): Path to json file containing data\n",
        "        :return X (ndarray): Inputs\n",
        "        :return y (ndarray): Targets\n",
        "    \"\"\"\n",
        "\n",
        "    with open(data_path, \"r\") as fp:\n",
        "        data = json.load(fp)\n",
        "\n",
        "    X = np.array(data[\"mfcc\"])\n",
        "    y = np.array(data[\"labels\"])\n",
        "    return X, y"
      ],
      "execution_count": null,
      "outputs": []
    },
    {
      "cell_type": "code",
      "metadata": {
        "id": "JC4wEdNZ95me"
      },
      "source": [
        "def plot_history(history):\n",
        "    \n",
        "    fig, axs = plt.subplots(2)\n",
        "\n",
        "    # create accuracy sublpot\n",
        "    axs[0].plot(history.history[\"accuracy\"], label=\"train accuracy\")\n",
        "    axs[0].plot(history.history[\"val_accuracy\"], label=\"test accuracy\")\n",
        "    axs[0].set_ylabel(\"Accuracy\")\n",
        "    axs[0].legend(loc=\"lower right\")\n",
        "    axs[0].set_title(\"Accuracy eval\")\n",
        "\n",
        "    # create error sublpot\n",
        "    axs[1].plot(history.history[\"loss\"], label=\"train error\")\n",
        "    axs[1].plot(history.history[\"val_loss\"], label=\"test error\")\n",
        "    axs[1].set_ylabel(\"Error\")\n",
        "    axs[1].set_xlabel(\"Epoch\")\n",
        "    axs[1].legend(loc=\"upper right\")\n",
        "    axs[1].set_title(\"Error eval\")\n",
        "\n",
        "    plt.show()"
      ],
      "execution_count": null,
      "outputs": []
    },
    {
      "cell_type": "code",
      "metadata": {
        "id": "xwOTmS5y99qP"
      },
      "source": [
        "def prepare_datasets(test_size, validation_size):\n",
        "    \n",
        "    # load data\n",
        "    X, y = load_data(DATA_PATH)\n",
        "\n",
        "    # create train, validation and test split\n",
        "    X_train, X_test, y_train, y_test = train_test_split(X, y, test_size=test_size)\n",
        "    X_train, X_validation, y_train, y_validation = train_test_split(X_train, y_train, test_size=validation_size)\n",
        "\n",
        "    return X_train, X_validation, X_test, y_train, y_validation, y_test"
      ],
      "execution_count": null,
      "outputs": []
    },
    {
      "cell_type": "code",
      "metadata": {
        "id": "tc6sVA2T0--Z"
      },
      "source": [
        "class AttLayer(Layer):\n",
        "    def __init__(self, attention_dim):\n",
        "        self.init = initializers.get('normal')\n",
        "        self.supports_masking = True\n",
        "        self.attention_dim = attention_dim\n",
        "        super(AttLayer, self).__init__()\n",
        "\n",
        "    def build(self, input_shape):\n",
        "        assert len(input_shape) == 3\n",
        "        self.W = K.variable(self.init((input_shape[-1], self.attention_dim)))\n",
        "        self.b = K.variable(self.init((self.attention_dim, )))\n",
        "        self.u = K.variable(self.init((self.attention_dim, 1)))\n",
        "        self.trainable_weights = [self.W, self.b, self.u]\n",
        "        super(AttLayer, self).build(input_shape)\n",
        "\n",
        "    def compute_mask(self, inputs, mask=None):\n",
        "        return None\n",
        "\n",
        "    def call(self, x, mask=None):\n",
        "        # size of x :[batch_size, sel_len, attention_dim]\n",
        "        # size of u :[batch_size, attention_dim]\n",
        "        # uit = tanh(xW+b)\n",
        "        uit = K.tanh(K.bias_add(K.dot(x, self.W), self.b))\n",
        "        ait = K.dot(uit, self.u)\n",
        "        ait = K.squeeze(ait, -1)\n",
        "        \n",
        "        ait = K.exp(ait)\n",
        "\n",
        "        if mask is not None:\n",
        "            # Cast the mask to floatX to avoid float64 upcasting in theano\n",
        "            ait *= K.cast(mask, K.floatx())\n",
        "        ait /= K.cast(K.sum(ait, axis=1, keepdims=True) + K.epsilon(), K.floatx())\n",
        "        ait = K.expand_dims(ait)\n",
        "        weighted_input = x * ait\n",
        "        output = K.sum(weighted_input, axis=1)\n",
        "\n",
        "        return output\n",
        "\n",
        "    def compute_output_shape(self, input_shape):\n",
        "        return (input_shape[0], input_shape[-1])"
      ],
      "execution_count": null,
      "outputs": []
    },
    {
      "cell_type": "code",
      "metadata": {
        "id": "u_w5o5wD3Auf"
      },
      "source": [
        "df3 = pd.read_json(\"/content/drive/MyDrive/Development_data.json\")"
      ],
      "execution_count": null,
      "outputs": []
    },
    {
      "cell_type": "code",
      "metadata": {
        "id": "FGLZySCnKUQq"
      },
      "source": [
        "df3['class'] = df3['class'].astype(str) \n",
        "df3['class'] = df3['class'].replace(str(2),\"zero\")\n",
        "df3['class'] = df3['class'].replace(str(1),\"one\")\n",
        "Y3 = df3['class']\n",
        "### Split the dataset into independent and dependent dataset\n",
        "Y3 = np.array(df3['class'].tolist())\n",
        "X31 = np.array(df3['mfcc'].tolist())\n",
        "X32 = np.array(df3['cqcc'].tolist())\n",
        "X3 = np.concatenate((X31, X32), axis=1)\n",
        "X_test = np.expand_dims(X3, 1)\n",
        "### Label Encoding\n",
        "y_test=np.array(pd.get_dummies(Y3))"
      ],
      "execution_count": null,
      "outputs": []
    },
    {
      "cell_type": "code",
      "metadata": {
        "id": "s3D2ZcfuDmIv",
        "colab": {
          "base_uri": "https://localhost:8080/",
          "height": 231
        },
        "outputId": "58253def-096b-48d9-d625-c9c3a7bbf7b5"
      },
      "source": [
        "\n",
        "model=Sequential()\n",
        "\n",
        "     # 2 Bidirectional LSTM layers\n",
        "audio_input = Input(shape=(1, 80, ))\n",
        "model.add(Bidirectional(LSTM(64, return_sequences=True), input_shape= audio_input))\n",
        "model.add(Bidirectional(LSTM(64)))\n",
        "model.add(Dropout(0.2))\n",
        "\n",
        "    # Dense layer\n",
        "model.add(Dense(64, activation='relu'))\n",
        "model.add(Dropout(0.3))\n",
        "\n",
        "    # Output Dense layer\n",
        "model.add(Dense(9, activation='softmax'))\n"
      ],
      "execution_count": null,
      "outputs": [
        {
          "output_type": "error",
          "ename": "NameError",
          "evalue": "ignored",
          "traceback": [
            "\u001b[0;31m---------------------------------------------------------------------------\u001b[0m",
            "\u001b[0;31mNameError\u001b[0m                                 Traceback (most recent call last)",
            "\u001b[0;32m<ipython-input-6-3dc59672a228>\u001b[0m in \u001b[0;36m<module>\u001b[0;34m()\u001b[0m\n\u001b[1;32m      3\u001b[0m \u001b[0;34m\u001b[0m\u001b[0m\n\u001b[1;32m      4\u001b[0m      \u001b[0;31m# 2 Bidirectional LSTM layers\u001b[0m\u001b[0;34m\u001b[0m\u001b[0;34m\u001b[0m\u001b[0;34m\u001b[0m\u001b[0m\n\u001b[0;32m----> 5\u001b[0;31m \u001b[0maudio_input\u001b[0m \u001b[0;34m=\u001b[0m \u001b[0mInput\u001b[0m\u001b[0;34m(\u001b[0m\u001b[0mshape\u001b[0m\u001b[0;34m=\u001b[0m\u001b[0;34m(\u001b[0m\u001b[0;36m1\u001b[0m\u001b[0;34m,\u001b[0m \u001b[0;36m80\u001b[0m\u001b[0;34m,\u001b[0m \u001b[0;34m)\u001b[0m\u001b[0;34m)\u001b[0m\u001b[0;34m\u001b[0m\u001b[0;34m\u001b[0m\u001b[0m\n\u001b[0m\u001b[1;32m      6\u001b[0m \u001b[0mmodel\u001b[0m\u001b[0;34m.\u001b[0m\u001b[0madd\u001b[0m\u001b[0;34m(\u001b[0m\u001b[0mBidirectional\u001b[0m\u001b[0;34m(\u001b[0m\u001b[0mLSTM\u001b[0m\u001b[0;34m(\u001b[0m\u001b[0;36m64\u001b[0m\u001b[0;34m,\u001b[0m \u001b[0mreturn_sequences\u001b[0m\u001b[0;34m=\u001b[0m\u001b[0;32mTrue\u001b[0m\u001b[0;34m)\u001b[0m\u001b[0;34m,\u001b[0m \u001b[0minput_shape\u001b[0m\u001b[0;34m=\u001b[0m \u001b[0maudio_input\u001b[0m\u001b[0;34m)\u001b[0m\u001b[0;34m)\u001b[0m\u001b[0;34m\u001b[0m\u001b[0;34m\u001b[0m\u001b[0m\n\u001b[1;32m      7\u001b[0m \u001b[0mmodel\u001b[0m\u001b[0;34m.\u001b[0m\u001b[0madd\u001b[0m\u001b[0;34m(\u001b[0m\u001b[0mBidirectional\u001b[0m\u001b[0;34m(\u001b[0m\u001b[0mLSTM\u001b[0m\u001b[0;34m(\u001b[0m\u001b[0;36m64\u001b[0m\u001b[0;34m)\u001b[0m\u001b[0;34m)\u001b[0m\u001b[0;34m)\u001b[0m\u001b[0;34m\u001b[0m\u001b[0;34m\u001b[0m\u001b[0m\n",
            "\u001b[0;31mNameError\u001b[0m: name 'Input' is not defined"
          ]
        }
      ]
    },
    {
      "cell_type": "code",
      "metadata": {
        "id": "e6rYOerBJajc"
      },
      "source": [
        "model.compile(loss='categorical_crossentropy',metrics=['accuracy'],optimizer='adam')"
      ],
      "execution_count": null,
      "outputs": []
    },
    {
      "cell_type": "code",
      "metadata": {
        "id": "jV8_4t7fJmBd"
      },
      "source": [
        "history = model.fit(X_train, y_train, batch_size=32, epochs=50)"
      ],
      "execution_count": null,
      "outputs": []
    },
    {
      "cell_type": "code",
      "metadata": {
        "colab": {
          "base_uri": "https://localhost:8080/",
          "height": 1000
        },
        "id": "OomI3HxQCbV_",
        "outputId": "074a2df8-c056-4141-f8d5-420a685b9d5d"
      },
      "source": [
        "if __name__ == \"__main__\":\n",
        "\n",
        "    # get train, validation, test splits\n",
        "    X_train, X_validation, X_test, y_train, y_validation, y_test = prepare_datasets(0.25, 0.2)\n",
        "\n",
        "    # create network\n",
        "    input_shape = (X_train.shape[1], X_train.shape[2]) # 130, 13\n",
        "    model = build_model(input_shape)\n",
        "\n",
        "    # compile model\n",
        "    optimiser = keras.optimizers.Adam(learning_rate=0.0001)\n",
        "    model.compile(optimizer=optimiser,\n",
        "                  loss='sparse_categorical_crossentropy',\n",
        "                  metrics=['accuracy'])\n",
        "\n",
        "    model.summary()\n",
        "\n",
        "    # train model\n",
        "    history = model.fit(X_train, y_train, validation_data=(X_validation, y_validation), batch_size=32, epochs=50)\n",
        "\n",
        "    # plot accuracy/error for training and validation\n",
        "    plot_history(history)\n",
        "\n",
        "    # evaluate model on test set\n",
        "    test_loss, test_acc = model.evaluate(X_test, y_test, verbose=2)\n",
        "    print('\\nTest accuracy:', test_acc)"
      ],
      "execution_count": null,
      "outputs": [
        {
          "output_type": "stream",
          "name": "stdout",
          "text": [
            "Model: \"sequential_1\"\n",
            "_________________________________________________________________\n",
            "Layer (type)                 Output Shape              Param #   \n",
            "=================================================================\n",
            "bidirectional_2 (Bidirection (None, 130, 128)          39936     \n",
            "_________________________________________________________________\n",
            "bidirectional_3 (Bidirection (None, 128)               98816     \n",
            "_________________________________________________________________\n",
            "dropout_2 (Dropout)          (None, 128)               0         \n",
            "_________________________________________________________________\n",
            "dense_2 (Dense)              (None, 64)                8256      \n",
            "_________________________________________________________________\n",
            "dropout_3 (Dropout)          (None, 64)                0         \n",
            "_________________________________________________________________\n",
            "dense_3 (Dense)              (None, 9)                 585       \n",
            "=================================================================\n",
            "Total params: 147,593\n",
            "Trainable params: 147,593\n",
            "Non-trainable params: 0\n",
            "_________________________________________________________________\n",
            "Epoch 1/50\n",
            "169/169 [==============================] - 30s 143ms/step - loss: 2.0973 - accuracy: 0.2101 - val_loss: 1.9010 - val_accuracy: 0.3763\n",
            "Epoch 2/50\n",
            "169/169 [==============================] - 23s 135ms/step - loss: 1.8306 - accuracy: 0.3548 - val_loss: 1.6205 - val_accuracy: 0.4496\n",
            "Epoch 3/50\n",
            "169/169 [==============================] - 23s 135ms/step - loss: 1.6098 - accuracy: 0.4317 - val_loss: 1.4453 - val_accuracy: 0.5000\n",
            "Epoch 4/50\n",
            "169/169 [==============================] - 23s 135ms/step - loss: 1.4595 - accuracy: 0.4747 - val_loss: 1.3183 - val_accuracy: 0.5370\n",
            "Epoch 5/50\n",
            "169/169 [==============================] - 23s 135ms/step - loss: 1.3654 - accuracy: 0.5120 - val_loss: 1.2598 - val_accuracy: 0.5444\n",
            "Epoch 6/50\n",
            "169/169 [==============================] - 23s 135ms/step - loss: 1.2764 - accuracy: 0.5446 - val_loss: 1.2247 - val_accuracy: 0.5741\n",
            "Epoch 7/50\n",
            "169/169 [==============================] - 23s 136ms/step - loss: 1.2085 - accuracy: 0.5863 - val_loss: 1.1629 - val_accuracy: 0.5852\n",
            "Epoch 8/50\n",
            "169/169 [==============================] - 23s 135ms/step - loss: 1.1595 - accuracy: 0.5990 - val_loss: 1.1226 - val_accuracy: 0.5993\n",
            "Epoch 9/50\n",
            "169/169 [==============================] - 23s 136ms/step - loss: 1.1035 - accuracy: 0.6218 - val_loss: 1.1008 - val_accuracy: 0.6141\n",
            "Epoch 10/50\n",
            "169/169 [==============================] - 23s 135ms/step - loss: 1.0575 - accuracy: 0.6415 - val_loss: 1.0607 - val_accuracy: 0.6244\n",
            "Epoch 11/50\n",
            "169/169 [==============================] - 23s 135ms/step - loss: 1.0113 - accuracy: 0.6517 - val_loss: 1.0698 - val_accuracy: 0.6326\n",
            "Epoch 12/50\n",
            "169/169 [==============================] - 23s 136ms/step - loss: 0.9684 - accuracy: 0.6707 - val_loss: 1.0277 - val_accuracy: 0.6393\n",
            "Epoch 13/50\n",
            "169/169 [==============================] - 23s 135ms/step - loss: 0.9473 - accuracy: 0.6819 - val_loss: 1.0103 - val_accuracy: 0.6422\n",
            "Epoch 14/50\n",
            "169/169 [==============================] - 23s 135ms/step - loss: 0.9062 - accuracy: 0.6898 - val_loss: 0.9906 - val_accuracy: 0.6570\n",
            "Epoch 15/50\n",
            "169/169 [==============================] - 23s 135ms/step - loss: 0.8784 - accuracy: 0.7093 - val_loss: 0.9797 - val_accuracy: 0.6615\n",
            "Epoch 16/50\n",
            "169/169 [==============================] - 23s 135ms/step - loss: 0.8465 - accuracy: 0.7193 - val_loss: 0.9643 - val_accuracy: 0.6711\n",
            "Epoch 17/50\n",
            "169/169 [==============================] - 23s 135ms/step - loss: 0.8279 - accuracy: 0.7280 - val_loss: 0.9733 - val_accuracy: 0.6719\n",
            "Epoch 18/50\n",
            "169/169 [==============================] - 23s 136ms/step - loss: 0.7821 - accuracy: 0.7365 - val_loss: 0.9541 - val_accuracy: 0.6822\n",
            "Epoch 19/50\n",
            "169/169 [==============================] - 23s 135ms/step - loss: 0.7698 - accuracy: 0.7426 - val_loss: 0.9314 - val_accuracy: 0.6926\n",
            "Epoch 20/50\n",
            "169/169 [==============================] - 23s 135ms/step - loss: 0.7257 - accuracy: 0.7565 - val_loss: 0.9557 - val_accuracy: 0.6837\n",
            "Epoch 21/50\n",
            "169/169 [==============================] - 23s 135ms/step - loss: 0.7267 - accuracy: 0.7615 - val_loss: 0.9400 - val_accuracy: 0.6919\n",
            "Epoch 22/50\n",
            "169/169 [==============================] - 23s 136ms/step - loss: 0.6980 - accuracy: 0.7662 - val_loss: 0.9238 - val_accuracy: 0.7081\n",
            "Epoch 23/50\n",
            "169/169 [==============================] - 23s 136ms/step - loss: 0.6582 - accuracy: 0.7890 - val_loss: 0.9164 - val_accuracy: 0.6993\n",
            "Epoch 24/50\n",
            "169/169 [==============================] - 23s 135ms/step - loss: 0.6674 - accuracy: 0.7795 - val_loss: 0.9178 - val_accuracy: 0.7052\n",
            "Epoch 25/50\n",
            "169/169 [==============================] - 23s 136ms/step - loss: 0.6446 - accuracy: 0.7860 - val_loss: 0.9421 - val_accuracy: 0.6941\n",
            "Epoch 26/50\n",
            "169/169 [==============================] - 23s 135ms/step - loss: 0.6240 - accuracy: 0.7949 - val_loss: 0.9108 - val_accuracy: 0.7074\n",
            "Epoch 27/50\n",
            "169/169 [==============================] - 23s 135ms/step - loss: 0.6039 - accuracy: 0.8038 - val_loss: 0.9292 - val_accuracy: 0.6948\n",
            "Epoch 28/50\n",
            "169/169 [==============================] - 23s 135ms/step - loss: 0.5869 - accuracy: 0.8086 - val_loss: 0.9057 - val_accuracy: 0.7133\n",
            "Epoch 29/50\n",
            "169/169 [==============================] - 23s 135ms/step - loss: 0.5619 - accuracy: 0.8203 - val_loss: 0.9191 - val_accuracy: 0.7081\n",
            "Epoch 30/50\n",
            "169/169 [==============================] - 23s 135ms/step - loss: 0.5421 - accuracy: 0.8260 - val_loss: 0.9388 - val_accuracy: 0.7059\n",
            "Epoch 31/50\n",
            "169/169 [==============================] - 23s 135ms/step - loss: 0.5313 - accuracy: 0.8251 - val_loss: 0.9415 - val_accuracy: 0.7067\n",
            "Epoch 32/50\n",
            "169/169 [==============================] - 23s 135ms/step - loss: 0.5122 - accuracy: 0.8349 - val_loss: 0.9253 - val_accuracy: 0.7141\n",
            "Epoch 33/50\n",
            "169/169 [==============================] - 23s 136ms/step - loss: 0.4941 - accuracy: 0.8438 - val_loss: 0.9359 - val_accuracy: 0.7074\n",
            "Epoch 34/50\n",
            "169/169 [==============================] - 23s 136ms/step - loss: 0.5157 - accuracy: 0.8377 - val_loss: 0.9331 - val_accuracy: 0.7185\n",
            "Epoch 35/50\n",
            "169/169 [==============================] - 23s 134ms/step - loss: 0.4767 - accuracy: 0.8453 - val_loss: 0.9128 - val_accuracy: 0.7133\n",
            "Epoch 36/50\n",
            "169/169 [==============================] - 23s 135ms/step - loss: 0.4678 - accuracy: 0.8497 - val_loss: 0.9157 - val_accuracy: 0.7222\n",
            "Epoch 37/50\n",
            "169/169 [==============================] - 23s 135ms/step - loss: 0.4550 - accuracy: 0.8501 - val_loss: 0.9418 - val_accuracy: 0.7133\n",
            "Epoch 38/50\n",
            "169/169 [==============================] - 23s 135ms/step - loss: 0.4232 - accuracy: 0.8638 - val_loss: 0.9216 - val_accuracy: 0.7237\n",
            "Epoch 39/50\n",
            "169/169 [==============================] - 23s 135ms/step - loss: 0.4510 - accuracy: 0.8542 - val_loss: 0.9519 - val_accuracy: 0.7156\n",
            "Epoch 40/50\n",
            "169/169 [==============================] - 23s 136ms/step - loss: 0.4002 - accuracy: 0.8744 - val_loss: 0.9502 - val_accuracy: 0.7126\n",
            "Epoch 41/50\n",
            "169/169 [==============================] - 23s 136ms/step - loss: 0.3766 - accuracy: 0.8829 - val_loss: 0.9929 - val_accuracy: 0.7170\n",
            "Epoch 42/50\n",
            "169/169 [==============================] - 23s 135ms/step - loss: 0.3947 - accuracy: 0.8681 - val_loss: 0.9471 - val_accuracy: 0.7304\n",
            "Epoch 43/50\n",
            "169/169 [==============================] - 23s 135ms/step - loss: 0.4137 - accuracy: 0.8642 - val_loss: 0.9174 - val_accuracy: 0.7289\n",
            "Epoch 44/50\n",
            "169/169 [==============================] - 23s 135ms/step - loss: 0.3604 - accuracy: 0.8894 - val_loss: 0.9141 - val_accuracy: 0.7304\n",
            "Epoch 45/50\n",
            "169/169 [==============================] - 23s 135ms/step - loss: 0.3467 - accuracy: 0.8927 - val_loss: 0.9514 - val_accuracy: 0.7244\n",
            "Epoch 46/50\n",
            "169/169 [==============================] - 23s 135ms/step - loss: 0.3441 - accuracy: 0.8909 - val_loss: 0.9243 - val_accuracy: 0.7363\n",
            "Epoch 47/50\n",
            "169/169 [==============================] - 23s 136ms/step - loss: 0.3600 - accuracy: 0.8873 - val_loss: 0.9883 - val_accuracy: 0.7178\n",
            "Epoch 48/50\n",
            "169/169 [==============================] - 23s 136ms/step - loss: 0.3802 - accuracy: 0.8820 - val_loss: 0.9250 - val_accuracy: 0.7333\n",
            "Epoch 49/50\n",
            "169/169 [==============================] - 23s 136ms/step - loss: 0.3127 - accuracy: 0.9012 - val_loss: 0.9565 - val_accuracy: 0.7363\n",
            "Epoch 50/50\n",
            "169/169 [==============================] - 23s 135ms/step - loss: 0.3145 - accuracy: 0.9007 - val_loss: 0.9312 - val_accuracy: 0.7319\n"
          ]
        },
        {
          "output_type": "display_data",
          "data": {
            "image/png": "[encoded data removed]",
            "text/plain": [
              "<Figure size 432x288 with 2 Axes>"
            ]
          },
          "metadata": {
            "needs_background": "light"
          }
        },
        {
          "output_type": "stream",
          "name": "stdout",
          "text": [
            "71/71 - 3s - loss: 0.8951 - accuracy: 0.7492\n",
            "\n",
            "Test accuracy: 0.7492218613624573\n"
          ]
        }
      ]
    },
    {
      "cell_type": "code",
      "metadata": {
        "id": "KmwU6w5RMpHl"
      },
      "source": [
        ""
      ],
      "execution_count": null,
      "outputs": []
    }
  ]
}